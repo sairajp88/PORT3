{
 "cells": [
  {
   "cell_type": "code",
   "execution_count": 2,
   "id": "754b4a94-0955-4d15-9cec-463e619888d6",
   "metadata": {},
   "outputs": [],
   "source": [
    "import pandas as pd\n",
    "import numpy as np"
   ]
  },
  {
   "cell_type": "code",
   "execution_count": 3,
   "id": "bfd0b49e-be54-4939-a25b-0eb8bedba36e",
   "metadata": {},
   "outputs": [
    {
     "name": "stdout",
     "output_type": "stream",
     "text": [
      "   ID    Name    Role  Salary\n",
      "0   1  Pankaj  Editor   10000\n",
      "1   2    Lisa  Editor    8000\n",
      "2   3   David  Author    6000\n",
      "3   4     Ram  Author    4000\n",
      "4   5  Anupam  Author    5000\n"
     ]
    }
   ],
   "source": [
    "df=pd.read_csv(\"/Users/prathamesh/Desktop/Dsbda/Data sets/records.csv\")\n",
    "df.head(20)\n",
    "print(df)"
   ]
  },
  {
   "cell_type": "code",
   "execution_count": 4,
   "id": "a832eb8b-006c-41bd-a53a-924233fd0e14",
   "metadata": {},
   "outputs": [
    {
     "name": "stdout",
     "output_type": "stream",
     "text": [
      "<class 'pandas.core.frame.DataFrame'>\n",
      "RangeIndex: 5 entries, 0 to 4\n",
      "Data columns (total 4 columns):\n",
      " #   Column  Non-Null Count  Dtype \n",
      "---  ------  --------------  ----- \n",
      " 0   ID      5 non-null      int64 \n",
      " 1   Name    5 non-null      object\n",
      " 2   Role    5 non-null      object\n",
      " 3   Salary  5 non-null      int64 \n",
      "dtypes: int64(2), object(2)\n",
      "memory usage: 292.0+ bytes\n"
     ]
    }
   ],
   "source": [
    "df.info()"
   ]
  },
  {
   "cell_type": "code",
   "execution_count": 5,
   "id": "7d483a48-0283-4251-8f63-8375b5775e3f",
   "metadata": {},
   "outputs": [],
   "source": [
    "#filling with missing values"
   ]
  },
  {
   "cell_type": "code",
   "execution_count": 6,
   "id": "dc9cc3ce-cef9-4430-a63f-57eb208aea8a",
   "metadata": {},
   "outputs": [
    {
     "name": "stdout",
     "output_type": "stream",
     "text": [
      "   ID    Name    Role  Salary\n",
      "0   1  Pankaj  Editor   10000\n",
      "1   2    Lisa  Editor    8000\n",
      "2   3   David  Author    6000\n",
      "3   4     Ram  Author    4000\n",
      "4   5  Anupam  Author    5000\n"
     ]
    }
   ],
   "source": [
    "update_df=df\n",
    "update_df['Salary']=update_df['Salary'].fillna(update_df['Salary'].mean())\n",
    "print(update_df)"
   ]
  },
  {
   "cell_type": "code",
   "execution_count": 7,
   "id": "8efcc259-58e4-4545-bc3a-9e709b03f086",
   "metadata": {},
   "outputs": [],
   "source": [
    "#imputation with additional Column"
   ]
  },
  {
   "cell_type": "code",
   "execution_count": 11,
   "id": "eb94f823-7953-48b1-9972-c63ad0241bf3",
   "metadata": {},
   "outputs": [
    {
     "name": "stdout",
     "output_type": "stream",
     "text": [
      "   ID    Name    Role  Salary  Salaryismissing\n",
      "0   1  Pankaj  Editor   10000            False\n",
      "1   2    Lisa  Editor    8000            False\n",
      "2   3   David  Author    6000            False\n",
      "3   4     Ram  Author    4000            False\n",
      "4   5  Anupam  Author    5000            False\n"
     ]
    }
   ],
   "source": [
    "update_df=df\n",
    "update_df['Salaryismissing']=update_df['Salary'].isnull()\n",
    "print(update_df.head(50))"
   ]
  },
  {
   "cell_type": "code",
   "execution_count": 9,
   "id": "80add6b3-ee80-4749-9a39-4cbd2c37fc68",
   "metadata": {},
   "outputs": [],
   "source": [
    "#filling with Regression model"
   ]
  },
  {
   "cell_type": "code",
   "execution_count": 10,
   "id": "1da5a505-0584-4440-a99b-66e64ef8faed",
   "metadata": {},
   "outputs": [
    {
     "name": "stdout",
     "output_type": "stream",
     "text": [
      "   ID    Name    Role  Salary  Salaryismissing\n",
      "0   1  Pankaj  Editor   10000            False\n",
      "1   2    Lisa  Editor    8000            False\n",
      "2   3   David  Author    6000            False\n",
      "3   4     Ram  Author    4000            False\n",
      "4   5  Anupam  Author    5000            False\n"
     ]
    }
   ],
   "source": [
    "testdf=df[df['Salary'].isnull()==True]\n",
    "traindf=df[df['Salary'].isnull()==False]\n",
    "traindf.drop(\"Salary\",axis=1,inplace=True)\n",
    "testdf.drop(\"Salary\",axis=1,inplace=True)\n",
    "print(traindf)"
   ]
  },
  {
   "cell_type": "code",
   "execution_count": null,
   "id": "dab8fb2e-57b4-4d94-b84a-363351ed8adf",
   "metadata": {},
   "outputs": [],
   "source": []
  }
 ],
 "metadata": {
  "kernelspec": {
   "display_name": "Python 3 (ipykernel)",
   "language": "python",
   "name": "python3"
  },
  "language_info": {
   "codemirror_mode": {
    "name": "ipython",
    "version": 3
   },
   "file_extension": ".py",
   "mimetype": "text/x-python",
   "name": "python",
   "nbconvert_exporter": "python",
   "pygments_lexer": "ipython3",
   "version": "3.11.7"
  }
 },
 "nbformat": 4,
 "nbformat_minor": 5
}
