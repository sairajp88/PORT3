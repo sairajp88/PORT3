{
 "cells": [
  {
   "cell_type": "code",
   "execution_count": 8,
   "id": "41b6b363-d32f-49d4-871a-8441824d98be",
   "metadata": {},
   "outputs": [],
   "source": [
    " import pandas as pd"
   ]
  },
  {
   "cell_type": "code",
   "execution_count": 9,
   "id": "59a6a95f-f8cb-4f99-bc9b-f6f58e08dc75",
   "metadata": {},
   "outputs": [],
   "source": [
    "#sorting"
   ]
  },
  {
   "cell_type": "code",
   "execution_count": 10,
   "id": "f549cfba-4a1d-4cd0-b656-3f01cfaebf38",
   "metadata": {},
   "outputs": [],
   "source": [
    "df=pd.read_csv(\"/Users/prathamesh/Desktop/Dsbda/Data sets/records.csv\")"
   ]
  },
  {
   "cell_type": "code",
   "execution_count": 11,
   "id": "71cae7a2-0859-4c33-a5c2-8982b0897e3c",
   "metadata": {},
   "outputs": [
    {
     "name": "stdout",
     "output_type": "stream",
     "text": [
      "\n",
      "Before Sorting\n",
      "   ID    Name    Role  Salary\n",
      "0   1  Pankaj  Editor   10000\n",
      "1   2    Lisa  Editor    8000\n",
      "2   3   David  Author    6000\n",
      "3   4     Ram  Author    4000\n",
      "4   5  Anupam  Author    5000\n"
     ]
    }
   ],
   "source": [
    "print(\"\\nBefore Sorting\")\n",
    "print(df)"
   ]
  },
  {
   "cell_type": "code",
   "execution_count": 17,
   "id": "3f810f32-8f0c-4322-84e8-e66d8d12f3d0",
   "metadata": {},
   "outputs": [],
   "source": [
    "df.sort_values('Salary',axis=0,ascending=False,inplace=True)"
   ]
  },
  {
   "cell_type": "code",
   "execution_count": 13,
   "id": "535c11e2-301a-4599-b1fc-b1e28ce41633",
   "metadata": {},
   "outputs": [
    {
     "name": "stdout",
     "output_type": "stream",
     "text": [
      "\n",
      "After Sorting\n",
      "   ID    Name    Role  Salary\n",
      "0   1  Pankaj  Editor   10000\n",
      "1   2    Lisa  Editor    8000\n",
      "2   3   David  Author    6000\n",
      "4   5  Anupam  Author    5000\n",
      "3   4     Ram  Author    4000\n"
     ]
    }
   ],
   "source": [
    "print(\"\\nAfter Sorting\")\n",
    "print(df)"
   ]
  },
  {
   "cell_type": "code",
   "execution_count": 14,
   "id": "bcb84196-5890-4cbb-867e-e11b01e28044",
   "metadata": {},
   "outputs": [],
   "source": [
    "#Transpose"
   ]
  },
  {
   "cell_type": "code",
   "execution_count": 21,
   "id": "20148014-5621-4a4f-b73e-7c745882d70a",
   "metadata": {},
   "outputs": [],
   "source": [
    "import pandas as pd"
   ]
  },
  {
   "cell_type": "code",
   "execution_count": 22,
   "id": "ac2b5def-5f25-4ad5-840e-1c19d079cdcf",
   "metadata": {},
   "outputs": [],
   "source": [
    "df=pd.read_csv(\"/Users/prathamesh/Desktop/Dsbda/Data sets/records.csv\")"
   ]
  },
  {
   "cell_type": "code",
   "execution_count": 23,
   "id": "d0a0610d-5264-4e84-8006-5fdfd6b27469",
   "metadata": {},
   "outputs": [
    {
     "name": "stdout",
     "output_type": "stream",
     "text": [
      "   ID    Name    Role  Salary\n",
      "0   1  Pankaj  Editor   10000\n",
      "1   2    Lisa  Editor    8000\n",
      "2   3   David  Author    6000\n",
      "3   4     Ram  Author    4000\n",
      "4   5  Anupam  Author    5000\n"
     ]
    }
   ],
   "source": [
    "print(df)"
   ]
  },
  {
   "cell_type": "code",
   "execution_count": 24,
   "id": "2fd4c90f-775b-434f-a34f-eb710f5175be",
   "metadata": {},
   "outputs": [
    {
     "name": "stdout",
     "output_type": "stream",
     "text": [
      "             0       1       2       3       4\n",
      "ID           1       2       3       4       5\n",
      "Name    Pankaj    Lisa   David     Ram  Anupam\n",
      "Role    Editor  Editor  Author  Author  Author\n",
      "Salary   10000    8000    6000    4000    5000\n"
     ]
    }
   ],
   "source": [
    "print(df.T)"
   ]
  },
  {
   "cell_type": "code",
   "execution_count": 25,
   "id": "04d370b6-c0c5-4a9e-9188-68c6550871f8",
   "metadata": {},
   "outputs": [
    {
     "name": "stdout",
     "output_type": "stream",
     "text": [
      "(5, 4)\n"
     ]
    }
   ],
   "source": [
    "print(df.shape)"
   ]
  },
  {
   "cell_type": "code",
   "execution_count": 26,
   "id": "afad8453-d1ec-4ec3-8e97-872b118f9b8f",
   "metadata": {},
   "outputs": [
    {
     "name": "stdout",
     "output_type": "stream",
     "text": [
      "20\n"
     ]
    }
   ],
   "source": [
    "print(df.size)"
   ]
  },
  {
   "cell_type": "code",
   "execution_count": null,
   "id": "b1643c52-aab3-4d4b-8cc3-4d8de933ed4d",
   "metadata": {},
   "outputs": [],
   "source": [
    "#shape\n"
   ]
  },
  {
   "cell_type": "code",
   "execution_count": 27,
   "id": "1c2a4aa8-d7c7-4e76-96af-c5cd6e19c2c2",
   "metadata": {},
   "outputs": [],
   "source": [
    "import pandas as pd"
   ]
  },
  {
   "cell_type": "code",
   "execution_count": 28,
   "id": "f25550b3-b049-4fb4-904d-9bb77d619291",
   "metadata": {},
   "outputs": [],
   "source": [
    "df=pd.read_csv(\"/Users/prathamesh/Desktop/Dsbda/Data sets/records.csv\")"
   ]
  },
  {
   "cell_type": "code",
   "execution_count": 29,
   "id": "ae140886-9ff3-422d-bee4-aaa2ab811e45",
   "metadata": {},
   "outputs": [
    {
     "name": "stdout",
     "output_type": "stream",
     "text": [
      "   ID    Name    Role  Salary\n",
      "0   1  Pankaj  Editor   10000\n",
      "1   2    Lisa  Editor    8000\n",
      "2   3   David  Author    6000\n",
      "3   4     Ram  Author    4000\n",
      "4   5  Anupam  Author    5000\n"
     ]
    }
   ],
   "source": [
    "print(df)"
   ]
  },
  {
   "cell_type": "code",
   "execution_count": 30,
   "id": "45b0a81e-b337-42cf-8a4d-ffdb535f504d",
   "metadata": {},
   "outputs": [
    {
     "name": "stdout",
     "output_type": "stream",
     "text": [
      "(5, 4)\n"
     ]
    }
   ],
   "source": [
    "print(df.shape)"
   ]
  },
  {
   "cell_type": "code",
   "execution_count": 31,
   "id": "5dfd7a6d-656e-4ecf-9eda-06db1646dc64",
   "metadata": {},
   "outputs": [
    {
     "name": "stdout",
     "output_type": "stream",
     "text": [
      "20\n"
     ]
    }
   ],
   "source": [
    "print(df.size)"
   ]
  },
  {
   "cell_type": "code",
   "execution_count": null,
   "id": "d439619b-8634-40fa-b9d5-ee219a6176a7",
   "metadata": {},
   "outputs": [],
   "source": []
  }
 ],
 "metadata": {
  "kernelspec": {
   "display_name": "Python 3 (ipykernel)",
   "language": "python",
   "name": "python3"
  },
  "language_info": {
   "codemirror_mode": {
    "name": "ipython",
    "version": 3
   },
   "file_extension": ".py",
   "mimetype": "text/x-python",
   "name": "python",
   "nbconvert_exporter": "python",
   "pygments_lexer": "ipython3",
   "version": "3.11.7"
  }
 },
 "nbformat": 4,
 "nbformat_minor": 5
}
