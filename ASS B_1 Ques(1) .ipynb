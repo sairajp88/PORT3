{
 "cells": [
  {
   "cell_type": "code",
   "execution_count": 4,
   "id": "52aad06c-6180-4cde-9c27-128117d388df",
   "metadata": {},
   "outputs": [],
   "source": [
    "import pandas as pd"
   ]
  },
  {
   "cell_type": "code",
   "execution_count": 5,
   "id": "bc519593-b69f-425b-969d-d575b4763fab",
   "metadata": {},
   "outputs": [],
   "source": [
    "data={\"Roll-num\":[10,20,30,40],\"Age\":[12,14,13,12],\"NAME\":[\"Pratham\",\"Anil\",\"Pratik\",\"Aditya\"]}\n"
   ]
  },
  {
   "cell_type": "code",
   "execution_count": 6,
   "id": "b21438c4-d1d2-42c5-afc8-d6f54a68b496",
   "metadata": {},
   "outputs": [],
   "source": [
    "block=pd.DataFrame(data)"
   ]
  },
  {
   "cell_type": "code",
   "execution_count": 7,
   "id": "c354c697-315a-407d-9827-9b068a2ff7ac",
   "metadata": {},
   "outputs": [
    {
     "name": "stdout",
     "output_type": "stream",
     "text": [
      "   Roll-num  Age     NAME\n",
      "0        10   12  Pratham\n",
      "1        20   14     Anil\n",
      "2        30   13   Pratik\n",
      "3        40   12   Aditya\n"
     ]
    }
   ],
   "source": [
    "print(block)\n"
   ]
  },
  {
   "cell_type": "code",
   "execution_count": 8,
   "id": "96f47cfc-c26c-46ca-b539-31610f0c5874",
   "metadata": {},
   "outputs": [
    {
     "name": "stdout",
     "output_type": "stream",
     "text": [
      "   Roll-num  Age     NAME\n",
      "0        10   12  Pratham\n",
      "1        20   14     Anil\n",
      "2        30   13   Pratik\n",
      "3        40   12   Aditya\n"
     ]
    }
   ],
   "source": [
    "print(block.loc[0:3])\n",
    "      "
   ]
  },
  {
   "cell_type": "code",
   "execution_count": 9,
   "id": "e2f3c97b-0ab6-4bce-9ef2-0d580585ee67",
   "metadata": {},
   "outputs": [
    {
     "name": "stdout",
     "output_type": "stream",
     "text": [
      "   Age     NAME\n",
      "0   12  Pratham\n",
      "1   14     Anil\n",
      "2   13   Pratik\n"
     ]
    }
   ],
   "source": [
    "print(block.loc[0:2,['Age','NAME']])"
   ]
  },
  {
   "cell_type": "code",
   "execution_count": 11,
   "id": "e8d7ba3d-acfe-43e8-bb41-8287ee296eb0",
   "metadata": {},
   "outputs": [
    {
     "name": "stdout",
     "output_type": "stream",
     "text": [
      "   Roll-num  Age\n",
      "0        10   12\n",
      "2        30   13\n"
     ]
    }
   ],
   "source": [
    "print(block.iloc[[0,2],[0,1]])"
   ]
  },
  {
   "cell_type": "code",
   "execution_count": 3,
   "id": "8d1e576c-658d-4cf5-a8e1-8e57f92670c2",
   "metadata": {},
   "outputs": [],
   "source": [
    "#merging\n"
   ]
  },
  {
   "cell_type": "code",
   "execution_count": 15,
   "id": "1412906f-f69a-437d-bb9d-aa3eb0c50ba2",
   "metadata": {},
   "outputs": [],
   "source": [
    "import pandas as pd"
   ]
  },
  {
   "cell_type": "code",
   "execution_count": 16,
   "id": "dd8e9bf5-a50d-4c14-920a-bb9c7233fd69",
   "metadata": {},
   "outputs": [],
   "source": [
    "d1={'Name':['Pratham','Anil','Pratik','Aditya'],'country':['India','USA','Japan','Pakistan'],'Role':['CEO','CEO','Manager','clark']}\n",
    "\n",
    "\n"
   ]
  },
  {
   "cell_type": "code",
   "execution_count": 17,
   "id": "4166d320-ac3e-4245-85a2-02060894ab86",
   "metadata": {},
   "outputs": [],
   "source": [
    "block2=pd.DataFrame(d1)"
   ]
  },
  {
   "cell_type": "code",
   "execution_count": 19,
   "id": "4b48580b-c8b8-4e6b-9bd0-b95d7aa63ce0",
   "metadata": {},
   "outputs": [
    {
     "name": "stdout",
     "output_type": "stream",
     "text": [
      "DataFrame 2:\n",
      "       Name   country     Role\n",
      "0  Pratham     India      CEO\n",
      "1     Anil       USA      CEO\n",
      "2   Pratik     Japan  Manager\n",
      "3   Aditya  Pakistan    clark\n"
     ]
    }
   ],
   "source": [
    "print(\"DataFrame 2:\\n\",block2)"
   ]
  },
  {
   "cell_type": "code",
   "execution_count": 20,
   "id": "fa5d54c7-6b5f-4332-887a-37a90d7fbbaa",
   "metadata": {},
   "outputs": [],
   "source": [
    "d2={'ID':[1,2,3,4],'Name':['Pd','Aj','PM','AS']}"
   ]
  },
  {
   "cell_type": "code",
   "execution_count": 21,
   "id": "026f55e9-ebdb-40dd-a3cd-c8df8499c12c",
   "metadata": {},
   "outputs": [],
   "source": [
    "block3=pd.DataFrame(d2);"
   ]
  },
  {
   "cell_type": "code",
   "execution_count": 31,
   "id": "18738f8b-e21f-4982-9a19-ef84b705aa66",
   "metadata": {},
   "outputs": [
    {
     "name": "stdout",
     "output_type": "stream",
     "text": [
      "DataFrame 3:\n",
      "    ID Name\n",
      "0   1   Pd\n",
      "1   2   Aj\n",
      "2   3   PM\n",
      "3   4   AS\n"
     ]
    }
   ],
   "source": [
    "print(\"DataFrame 3:\\n\",block3)"
   ]
  },
  {
   "cell_type": "code",
   "execution_count": 26,
   "id": "d34f2c7f-1040-4278-85f9-c82bc1d57886",
   "metadata": {},
   "outputs": [],
   "source": [
    "df_merged=block2.merge(block3);"
   ]
  },
  {
   "cell_type": "code",
   "execution_count": 27,
   "id": "f5797177-7570-4fcd-b592-fd36323335bf",
   "metadata": {},
   "outputs": [
    {
     "name": "stdout",
     "output_type": "stream",
     "text": [
      "Result Inner Join:\n",
      " Empty DataFrame\n",
      "Columns: [Name, country, Role, ID]\n",
      "Index: []\n"
     ]
    }
   ],
   "source": [
    "print(\"Result Inner Join:\\n\",df_merged)"
   ]
  },
  {
   "cell_type": "code",
   "execution_count": 30,
   "id": "197482ea-a12d-4cb3-95bc-9a74fcf6e5d4",
   "metadata": {},
   "outputs": [
    {
     "name": "stdout",
     "output_type": "stream",
     "text": [
      "Result Left join \n",
      "       Name   country     Role  ID\n",
      "0  Pratham     India      CEO NaN\n",
      "1     Anil       USA      CEO NaN\n",
      "2   Pratik     Japan  Manager NaN\n",
      "3   Aditya  Pakistan    clark NaN\n"
     ]
    }
   ],
   "source": [
    "print(\"Result Left join \\n\",block2.merge(block3,how='left'))"
   ]
  },
  {
   "cell_type": "code",
   "execution_count": 33,
   "id": "fb7002e9-c8c3-4e8c-ab5f-6d23a5cafd3e",
   "metadata": {},
   "outputs": [
    {
     "name": "stdout",
     "output_type": "stream",
     "text": [
      "Result Left join \n",
      "   Name country Role  ID\n",
      "0   Pd     NaN  NaN   1\n",
      "1   Aj     NaN  NaN   2\n",
      "2   PM     NaN  NaN   3\n",
      "3   AS     NaN  NaN   4\n"
     ]
    }
   ],
   "source": [
    "print(\"Result Left join \\n\",block2.merge(block3,how='right'))"
   ]
  },
  {
   "cell_type": "code",
   "execution_count": 34,
   "id": "1641be3d-0d32-480d-9d59-f2f1081e43c9",
   "metadata": {},
   "outputs": [
    {
     "name": "stdout",
     "output_type": "stream",
     "text": [
      "Result Left join \n",
      "       Name   country     Role   ID\n",
      "0  Pratham     India      CEO  NaN\n",
      "1     Anil       USA      CEO  NaN\n",
      "2   Pratik     Japan  Manager  NaN\n",
      "3   Aditya  Pakistan    clark  NaN\n",
      "4       Pd       NaN      NaN  1.0\n",
      "5       Aj       NaN      NaN  2.0\n",
      "6       PM       NaN      NaN  3.0\n",
      "7       AS       NaN      NaN  4.0\n"
     ]
    }
   ],
   "source": [
    "print(\"Result Left join \\n\",block2.merge(block3,how='outer'))"
   ]
  },
  {
   "cell_type": "code",
   "execution_count": null,
   "id": "7f5a6f80-ae89-45ae-941b-db9f23525de6",
   "metadata": {},
   "outputs": [],
   "source": []
  }
 ],
 "metadata": {
  "kernelspec": {
   "display_name": "Python 3 (ipykernel)",
   "language": "python",
   "name": "python3"
  },
  "language_info": {
   "codemirror_mode": {
    "name": "ipython",
    "version": 3
   },
   "file_extension": ".py",
   "mimetype": "text/x-python",
   "name": "python",
   "nbconvert_exporter": "python",
   "pygments_lexer": "ipython3",
   "version": "3.11.7"
  }
 },
 "nbformat": 4,
 "nbformat_minor": 5
}
